{
  "cells": [
    {
      "cell_type": "code",
      "source": [
        "import math\n",
        "import random\n",
        "\n",
        "# Alpha-Beta Pruning Algorithm\n",
        "def al_be_Pruning(node, dpth, alpha, beta, attkr, bullet):\n",
        "    # Checking if the given node is a leaf node or max depth\n",
        "    if dpth == 0 or node in terminal_nodes:\n",
        "        return node\n",
        "    if attkr:  # If it's the attacker's turn (maximizing player)\n",
        "        hp = -math.inf\n",
        "        for i in getChild(node, bullet):  # For all child nodes, get the maximum value\n",
        "            hp = max(hp, al_be_Pruning(i, dpth - 1, alpha, beta, False, bullet))\n",
        "            alpha = max(alpha, hp)\n",
        "\n",
        "            if beta <= alpha:  # When beta becomes less than or equal to alpha, prune\n",
        "                increment_p()  # Keep track of pruning count\n",
        "                break\n",
        "\n",
        "        return hp\n",
        "    else:  # If it's the defender's turn (minimizing player)\n",
        "        hp = math.inf\n",
        "        for i in getChild(node, bullet):  # For each child node, get the minimum value\n",
        "            hp = min(hp, al_be_Pruning(i, dpth - 1, alpha, beta, True, bullet))\n",
        "\n",
        "            beta = min(beta, hp)\n",
        "            if beta <= alpha:  # When beta becomes less than or equal to alpha, prune\n",
        "                increment_p()  # Keep track of pruning count\n",
        "                break\n",
        "\n",
        "        return hp\n",
        "\n",
        "temp = 0\n",
        "\n",
        "# Prune counter function\n",
        "def increment_p():\n",
        "    global temp\n",
        "    temp += 1\n",
        "\n",
        "# Get child nodes from the given node input\n",
        "def getChild(node, bullet):\n",
        "    child = []\n",
        "    i = 0\n",
        "    while i < len(bullet):  # Subtracting each bullet from the node to get the child node\n",
        "        child.append(node - bullet[i])\n",
        "        i += 1\n",
        "    return child\n",
        "\n",
        "# Getting user inputs\n",
        "student_id = input(\"Enter your student id: \")\n",
        "min_hp, max_hp = map(int, input(\"Minimum and Maximum value for the range of negative HP: \").split())\n",
        "chance = int(student_id[0])  # First chance\n",
        "dpth = chance * 2  # Both attacker and defender will get a chance\n",
        "defender_hp = int(student_id[::-1][:2])  # Reverse and take the last two digits\n",
        "num_bullet = int(student_id[2])\n",
        "\n",
        "# Generate terminal nodes randomly\n",
        "terminal_nodes = random.sample(range(min_hp, max_hp + 1), pow(dpth, num_bullet))\n",
        "\n",
        "bullet = []  # Getting bullets from input\n",
        "i = 1\n",
        "while i <= num_bullet:\n",
        "    bullet.append(i)\n",
        "    i += 1\n",
        "\n",
        "# Calculate the total number of nodes for the depth\n",
        "totalnodes = pow(dpth, num_bullet)\n",
        "\n",
        "branches = num_bullet\n",
        "\n",
        "# Calculate the depth to branches ratio for the output\n",
        "depthBranches_ratio = str(dpth) + \":\" + str(branches)\n",
        "\n",
        "# Calculate the maximum damage that attacker deals\n",
        "max_damage = al_be_Pruning(defender_hp, dpth, max_hp, min_hp, True, bullet)\n",
        "\n",
        "# Calculate the remaining life (HP) of the defender after maximum damage caused by the attacker\n",
        "remaining_life = defender_hp - max_damage\n",
        "\n",
        "# Print all output\n",
        "print(\"Depth and Branches ratio is\", depthBranches_ratio)\n",
        "print(\"Terminal States(Leaf Nodes) are\", \" , \".join(map(str, terminal_nodes)))\n",
        "print(\"Left life(HP) of the defender after maximum damage caused by the attacker is\", int(remaining_life))\n",
        "print(\"After Alpha-Beta Pruning Leaf Node Comparisons\", totalnodes - int(temp))\n"
      ],
      "metadata": {
        "colab": {
          "base_uri": "https://localhost:8080/"
        },
        "id": "icRBtNyDchpp",
        "outputId": "3084af9c-2e17-4dc3-d8a8-e78bf0af684a"
      },
      "execution_count": null,
      "outputs": [
        {
          "output_type": "stream",
          "name": "stdout",
          "text": [
            "Enter your student id: 17301106\n",
            "Minimum and Maximum value for the range of negative HP: 1 30\n",
            "Depth and Branches ratio is 2:3\n",
            "Terminal States(Leaf Nodes) are 28 , 1 , 15 , 23 , 2 , 24 , 11 , 19\n",
            "Left life(HP) of the defender after maximum damage caused by the attacker is 2\n",
            "After Alpha-Beta Pruning Leaf Node Comparisons 6\n"
          ]
        }
      ]
    }
  ],
  "metadata": {
    "kernelspec": {
      "display_name": "Python 3",
      "language": "python",
      "name": "python3"
    },
    "language_info": {
      "codemirror_mode": {
        "name": "ipython",
        "version": 3
      },
      "file_extension": ".py",
      "mimetype": "text/x-python",
      "name": "python",
      "nbconvert_exporter": "python",
      "pygments_lexer": "ipython3",
      "version": "3.7.6"
    },
    "colab": {
      "provenance": []
    }
  },
  "nbformat": 4,
  "nbformat_minor": 0
}